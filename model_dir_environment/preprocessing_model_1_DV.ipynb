{
 "cells": [
  {
   "cell_type": "markdown",
   "id": "1598461b-f268-4335-be10-33b34f848b5e",
   "metadata": {},
   "source": [
    "## **Data Preprocessing**"
   ]
  },
  {
   "cell_type": "code",
   "execution_count": 1,
   "id": "995ffcaa",
   "metadata": {
    "tags": []
   },
   "outputs": [
    {
     "name": "stdout",
     "output_type": "stream",
     "text": [
      "Data Already Processed!\n"
     ]
    }
   ],
   "source": [
    "import os\n",
    "import cv2 as cv\n",
    "import numpy as np\n",
    "import shutil as stl\n",
    "import tensorflow as tf\n",
    "from PIL import Image\n",
    "\n",
    "DIM_SIZE = 256 # size of image datapoints; i.e. each image is DIM_SIZExDIM_SIZE in dimensions\n",
    "\n",
    "# This method generates a directory of the desired format\n",
    "# for organizing our image data\n",
    "def gen_dir(dirx):\n",
    "    os.mkdir(dirx)\n",
    "    os.mkdir(dirx+'\\\\'+'desert')\n",
    "    os.mkdir(dirx+'\\\\'+'forest')\n",
    "    os.mkdir(dirx+'\\\\'+'grassland')\n",
    "    os.mkdir(dirx+'\\\\'+'tundra')\n",
    "\n",
    "# This methods empties the target directory and rebuilds\n",
    "# the desired directory format\n",
    "def clean_dir(dirx):\n",
    "    stl.rmtree(dirx)\n",
    "    gen_dir(dirx)\n",
    "\n",
    "# mean of dataset is 871.34375 x 908.65 (height x width); \n",
    "# my assumption is we want square images so I recommened \n",
    "# we normalize to the average of these dimensions.\n",
    "def calculate_params(dirx):\n",
    "    print(\"Calculating params...\",end='',flush=False)\n",
    "    width_sum = height_sum = size = 0\n",
    "    for root, dirs, files in os.walk(dirx):\n",
    "        for filename in files:\n",
    "            img_path = root + \"\\\\\" + filename\n",
    "            img = cv.imread(img_path)\n",
    "            dims = img.shape\n",
    "            height_sum += dims[0]\n",
    "            width_sum += dims[1]\n",
    "            size += 1\n",
    "    width_sum /= size\n",
    "    height_sum /= size\n",
    "    print(\"...params calculated\",end='\\n',flush=False)\n",
    "    return [height_sum, width_sum]\n",
    "\n",
    "# this function is a simple normalization algorithm for \n",
    "# our image dataset; changes all file names to required \n",
    "# format and adjusts pixel data; also resizes image\n",
    "# WARNING: path format is optimized for WINDOWS\n",
    "# it MAY NOT WORK on MAC/LINUX (replace \"\\\\\" with \"//\" to fix this, just my guess lol)\n",
    "def preprocess_data(dims, dirx, dest):\n",
    "    for root, dirs, files in os.walk(dirx):\n",
    "        percent_done = 0\n",
    "        size_dir = len(files)\n",
    "        for filename in files:\n",
    "            print(\"\\rProcessing \" + root + \"...\" + str(int((percent_done/size_dir*100)+0.5)) + \"%\", end='', flush=True)\n",
    "            percent_done += 1\n",
    "            img_path = root + \"\\\\\" + filename\n",
    "            assert os.path.exists(root)\n",
    "            assert os.path.exists(img_path)\n",
    "            img = cv.imread(img_path)\n",
    "            img = cv.cvtColor(img, cv.COLOR_BGR2RGB)\n",
    "            img = cv.resize(img, dsize=[dims,dims], interpolation=cv.INTER_CUBIC)\n",
    "            img_array = np.asarray(img)\n",
    "            buf = filename\n",
    "            # This section of the algorithm formats the names properly\n",
    "            i = 0\n",
    "            if '.jpg' in buf or '.JPG' in buf:\n",
    "                for char in buf:\n",
    "                    if char.isnumeric() == False:\n",
    "                        if char == \"N\":\n",
    "                            buf = buf[0:i] + buf[i+1:len(buf)]\n",
    "                        elif char == \"S\":\n",
    "                            buf = \"-\" + buf[0:i] + buf[i+1:len(buf)]\n",
    "                            i += 1\n",
    "                        elif char == \"E\":\n",
    "                            buf = buf[0:i] + buf[i+1:len(buf)]\n",
    "                        elif char == \"W\":\n",
    "                            j = buf.find(\"_\")\n",
    "                            buf = buf[0:j+1] + \"-\" + buf[j+1:i] + buf[i+1:len(buf)]\n",
    "                    i += 1\n",
    "            ext = buf.find(\".\")\n",
    "            sub = root.find(\"\\\\\")\n",
    "            Image.fromarray(img_array).save(dest + root[sub:len(root)] + \"\\\\\" + buf[0:len(buf)-4] + \".jpg\")\n",
    "        if percent_done == size_dir and size_dir > 0:\n",
    "            print(\"\\n.\", end='',flush=False)\n",
    "\n",
    "# Most lines of the normalize_data step can be skipped after running the above method once - we don't\n",
    "# need to resize and rename the data each time we make our datasets - the above\n",
    "# method saves all the formatted images\n",
    "def main():\n",
    "    dirx = 'raw_data'\n",
    "    dest = 'processed_data'\n",
    "    in_dir = False\n",
    "    if not os.path.exists(dirx):\n",
    "        print(\"Error! Path 'raw_data' does not exist. Path 'raw_data' is required for processing.\")\n",
    "        return 0\n",
    "    if dest not in os.listdir('.\\\\'):\n",
    "        gen_dir(dest)\n",
    "    for root, dirs, files in os.walk(dest):\n",
    "        if in_dir:\n",
    "            if (len(files) > 0) and (len(np.asarray(cv.imread(root+\"\\\\\"+files[0]))[0]) == DIM_SIZE):\n",
    "                print(\"\\rData Already Processed!\")\n",
    "                break\n",
    "            else:\n",
    "                clean_dir(dest)\n",
    "                preprocess_data(DIM_SIZE, dirx, dest)\n",
    "                print(\"\\rData Processed! Dims: \" + str(DIM_SIZE)) # used to be norm_length\n",
    "                break\n",
    "        in_dir = True\n",
    "    \n",
    "if __name__ == \"__main__\":\n",
    "    main()"
   ]
  },
  {
   "cell_type": "markdown",
   "id": "8bc566fe-6f1e-4fc7-98a4-f7db78613d74",
   "metadata": {},
   "source": [
    "## **Data Visualization - Pair Plot (and Histogram TBI)** "
   ]
  },
  {
   "cell_type": "code",
   "execution_count": 2,
   "id": "ef54ceff",
   "metadata": {
    "tags": []
   },
   "outputs": [
    {
     "data": {
      "text/plain": [
       "<seaborn.axisgrid.PairGrid at 0x16873bd1280>"
      ]
     },
     "execution_count": 2,
     "metadata": {},
     "output_type": "execute_result"
    },
    {
     "data": {
      "image/png": "[encoded data removed]",
      "text/plain": [
       "<Figure size 444.875x360 with 6 Axes>"
      ]
     },
     "metadata": {
      "needs_background": "light"
     },
     "output_type": "display_data"
    }
   ],
   "source": [
    "import seaborn as sns\n",
    "import pandas as pan\n",
    "\n",
    "# x1 = lat, x2 = long, y = biome\n",
    "dirx = 'processed_data'\n",
    "lat_long_df = pan.DataFrame(columns=[\"lat\", \"long\", \"biome\"]) \n",
    "for root, dirs, files in os.walk(dirx):\n",
    "    for filename in files:\n",
    "        split = filename.split('_')\n",
    "        if len(split) >= 2:\n",
    "            lat = float(split[0])\n",
    "            long = float(split[1][0:len(split[1])-4])\n",
    "            biome = root[root.find('\\\\')+1:len(root)]\n",
    "            row = {'lat': lat, 'long': long, 'biome': biome}\n",
    "            lat_long_df = lat_long_df.append(row, ignore_index = True)\n",
    "        else:\n",
    "            print(\"Failed to parse filename: \", filename)\n",
    "sns.pairplot(lat_long_df, hue = \"biome\")"
   ]
  },
  {
   "cell_type": "markdown",
   "id": "fa949db7-3f44-4de0-ba10-366c5d77e28e",
   "metadata": {
    "tags": []
   },
   "source": [
    "## **Cross Validation Partitioning:**\n",
    "Each execution of this cell generates **new** validation data. Do **not** execute this cell after training Model 1.<br>\n",
    "(This code cell **must** be executed before running Model 1)"
   ]
  },
  {
   "cell_type": "code",
   "execution_count": 3,
   "id": "f9256fdb-2807-46b6-98b4-c9218a7d2ad2",
   "metadata": {
    "tags": []
   },
   "outputs": [
    {
     "name": "stdout",
     "output_type": "stream",
     "text": [
      "Partitioning validation data......validation data partitioned\n"
     ]
    },
    {
     "data": {
      "text/plain": [
       "[                                            file      biome\n",
       " 101      processed_data\\desert\\38.105_86.003.jpg     desert\n",
       " 102     processed_data\\tundra\\75.943_-79.371.jpg     tundra\n",
       " 103    processed_data\\desert\\36.223_-111.345.jpg     desert\n",
       " 104    processed_data\\tundra\\60.765_-152.408.jpg     tundra\n",
       " 105    processed_data\\forest\\-11.632_132.729.jpg     forest\n",
       " ...                                          ...        ...\n",
       " 999   processed_data\\grassland\\10.539_30.873.jpg  grassland\n",
       " 1000    processed_data\\tundra\\68.509_-89.827.jpg     tundra\n",
       " 1001   processed_data\\grassland\\10.900_5.354.jpg  grassland\n",
       " 1002    processed_data\\tundra\\81.251_-67.386.jpg     tundra\n",
       " 1003   processed_data\\desert\\-20.249_132.917.jpg     desert\n",
       " \n",
       " [903 rows x 2 columns],\n",
       "                                              file      biome\n",
       " 0         processed_data\\tundra\\68.953_15.057.jpg     tundra\n",
       " 1     processed_data\\grassland\\52.303_138.833.jpg  grassland\n",
       " 2      processed_data\\grassland\\10.569_30.443.jpg  grassland\n",
       " 3         processed_data\\desert\\23.358_47.140.jpg     desert\n",
       " 4       processed_data\\tundra\\69.208_-122.925.jpg     tundra\n",
       " ..                                            ...        ...\n",
       " 96        processed_data\\desert\\10.954_42.368.jpg     desert\n",
       " 97        processed_data\\desert\\19.000_45.203.jpg     desert\n",
       " 98      processed_data\\tundra\\63.176_-140.399.jpg     tundra\n",
       " 99   processed_data\\grassland\\46.973_-108.050.jpg  grassland\n",
       " 100     processed_data\\desert\\-19.673_-67.609.jpg     desert\n",
       " \n",
       " [101 rows x 2 columns]]"
      ]
     },
     "execution_count": 3,
     "metadata": {},
     "output_type": "execute_result"
    }
   ],
   "source": [
    "from sklearn.model_selection import KFold as kfd\n",
    "\n",
    "NUM_FOLDS_K = 10 # This is the K in K-FoldCV\n",
    "\n",
    "# Before any of the below code is executed, we need\n",
    "# directories in which we will dump our partitions:\n",
    "if 'val_dir' not in os.listdir('.\\\\'):\n",
    "    gen_dir('val_dir')\n",
    "if 'train_dir' not in os.listdir('.\\\\'):\n",
    "    gen_dir('train_dir')\n",
    "if 'test_dir' not in os.listdir('.\\\\'):\n",
    "    gen_dir('test_dir')\n",
    "\n",
    "# This method avoids copy-pasting these same four operations\n",
    "# repeatedly throughout partitioning the validation data\n",
    "# and the training data.\n",
    "def get_dir_lens(dirx):\n",
    "    d = len(os.listdir(dirx+'\\\\'+'desert'))\n",
    "    t = len(os.listdir(dirx+'\\\\'+'tundra'))\n",
    "    f = len(os.listdir(dirx+'\\\\'+'forest'))\n",
    "    g = len(os.listdir(dirx+'\\\\'+'grassland'))\n",
    "    return [d,f,g,t]\n",
    "\n",
    "# This block of code creates a pandas DataFrame of paths\n",
    "# to our datapoints for future partitioning in KFold-CV\n",
    "cols = []\n",
    "file_frame = pan.DataFrame(columns=['file'])\n",
    "biome_frame = pan.DataFrame(columns=['biome'])\n",
    "for root, dirs, files in os.walk('processed_data'):\n",
    "    biome = ''\n",
    "    file_list = []\n",
    "    biome_list = []\n",
    "    if len(dirs) > 0:\n",
    "        cols = iter(dirs)\n",
    "    else:\n",
    "        biome = next(cols)\n",
    "    for filename in files:\n",
    "        file_list.append(root + \"\\\\\" + filename)\n",
    "        biome_list.append(biome)\n",
    "    if len(file_list) > 0:\n",
    "        file_frame = file_frame.append(pan.DataFrame(file_list, columns=['file']), ignore_index=True)\n",
    "        biome_frame = biome_frame.append(pan.DataFrame(biome_list, columns=['biome']), ignore_index=True)\n",
    "path_frame = file_frame.join(biome_frame).sample(frac=1).reset_index(drop=True) # Dataframe containing paths to all datapoints; WARNING: DO NOT USE, ONLY FOR USE IN THIS CODE CELL\n",
    "val_data = path_frame.sample(frac=0.1)                                            # Dataframe containing paths to all validation datapoints; WARNING: DO NOT USE, ONLY FOR USE IN THIS CODE CELL\n",
    "\n",
    "# While the chances of any individual category having no representation\n",
    "# in the validation partition is negligible, I developed the partitioning with this\n",
    "# unlikely outcome in mind\n",
    "clean_dir('val_dir')\n",
    "print(\"Partitioning validation data...\",end='',flush=False)\n",
    "for file in val_data['file']:\n",
    "    subdir = file.find('\\\\')\n",
    "    dest = 'val_dir\\\\' + file[subdir+1:len(file)]\n",
    "    stl.copy(file, dest)\n",
    "p = get_dir_lens('vaL_dir')\n",
    "while p[0] == 0 or p[1] == 0 or p[2] == 0 or p[3] == 0:\n",
    "    for file in val_data['file']:\n",
    "        subdir = file.find('\\\\')\n",
    "        dest = 'val_dir\\\\' + file[subdir+1:len(file)]\n",
    "        stl.copy(file, dest)\n",
    "    p = get_dir_lens('vaL_dir')\n",
    "print(\"...validation data partitioned\",end='\\n',flush=False)\n",
    "\n",
    "# Begin KFoldCV:\n",
    "# cv_train_frames data format: [train_df, test_df]\n",
    "train_data = path_frame.drop(axis='index',index=val_data.index.values).reset_index(drop=True) # use this guy for later cross-validation\n",
    "cv_train_frames = []\n",
    "cross_val = kfd(n_splits=NUM_FOLDS_K)\n",
    "for i, j in cross_val.split(train_data):\n",
    "    cv_train_frames.append([pan.concat([train_data.iloc[0:j[0],:], train_data.iloc[(j[len(j)-1]+1):len(train_data),:]]), train_data.iloc[j[0]:(j[len(j)-1]+1),:]])\n",
    "cv_train_frames[0]"
   ]
  },
  {
   "cell_type": "markdown",
   "id": "82737118-8ccf-4974-9b3f-93ec65d05168",
   "metadata": {},
   "source": [
    "## **Model Builder**"
   ]
  },
  {
   "cell_type": "code",
   "execution_count": 4,
   "id": "3d66f278",
   "metadata": {
    "tags": []
   },
   "outputs": [
    {
     "name": "stdout",
     "output_type": "stream",
     "text": [
      "Model Built!\n",
      "GPU Available: \n",
      "[PhysicalDevice(name='/physical_device:GPU:0', device_type='GPU')]\n"
     ]
    }
   ],
   "source": [
    "from tensorflow.python.client import device_lib\n",
    "tf.compat.v1.disable_eager_execution()\n",
    "biome_model = tf.keras.Sequential([\n",
    "    tf.keras.layers.Conv2D(filters=16,kernel_size=[2,2],padding=\"same\",activation=\"relu\"),\n",
    "    tf.keras.layers.MaxPool2D(pool_size=[2,2],padding=\"same\"),\n",
    "    tf.keras.layers.Conv2D(filters=32,kernel_size=[2,2],padding=\"same\",activation=\"relu\"),\n",
    "    tf.keras.layers.MaxPool2D(pool_size=[2,2],padding=\"same\"),\n",
    "    tf.keras.layers.Flatten(),\n",
    "    tf.keras.layers.Dropout(rate=0.8),\n",
    "    tf.keras.layers.Dense(units=72,activation=\"relu\",activity_regularizer=tf.keras.regularizers.L2(0.01)),\n",
    "    tf.keras.layers.Dense(units=36,activation=\"relu\",activity_regularizer=tf.keras.regularizers.L2(0.01)),\n",
    "    tf.keras.layers.Dense(units=4,activation=\"softmax\")\n",
    "])\n",
    "biome_model.compile(optimizer=tf.keras.optimizers.SGD(learning_rate=0.03, momentum=0.3),loss=tf.losses.CategoricalCrossentropy(from_logits=False),metrics=[\"accuracy\"])\n",
    "print(\"Model Built!\")\n",
    "print(\"GPU Available: \")\n",
    "print(tf.config.list_physical_devices('GPU'))"
   ]
  },
  {
   "cell_type": "code",
   "execution_count": 15,
   "id": "8fc77fe0-b9b1-4c96-a436-96bc3ed42a29",
   "metadata": {},
   "outputs": [
    {
     "name": "stdout",
     "output_type": "stream",
     "text": [
      "2.9.1\n",
      "[PhysicalDevice(name='/physical_device:CPU:0', device_type='CPU'), PhysicalDevice(name='/physical_device:GPU:0', device_type='GPU')]\n"
     ]
    }
   ],
   "source": [
    "print(tf.__version__)\n",
    "print(tf.config.list_physical_devices())"
   ]
  },
  {
   "cell_type": "markdown",
   "id": "b5d2f6bb-c3ec-478d-a504-3e33de9bb4c5",
   "metadata": {},
   "source": [
    "## **Single-Set Model Training Cell**"
   ]
  },
  {
   "cell_type": "code",
   "execution_count": 16,
   "id": "9de5a5ee-84a4-427a-bc81-8d877ff4c126",
   "metadata": {},
   "outputs": [
    {
     "name": "stdout",
     "output_type": "stream",
     "text": [
      "Found 903 files belonging to 4 classes.\n",
      "Found 101 files belonging to 4 classes.\n",
      "Model Trained\n"
     ]
    }
   ],
   "source": [
    "clean_dir('train_dir')\n",
    "clean_dir('test_dir')\n",
    "for file in cv_train_frames[0][0]['file']:\n",
    "    subdir = file.find('\\\\')\n",
    "    dest = 'train_dir\\\\' + file[subdir+1:len(file)]\n",
    "    stl.copy(file, dest)\n",
    "for file in cv_train_frames[0][1]['file']:\n",
    "    subdir = file.find('\\\\')\n",
    "    dest = 'test_dir\\\\' + file[subdir+1:len(file)]\n",
    "    stl.copy(file, dest)\n",
    "norm = tf.keras.layers.Rescaling(1./255)\n",
    "training_ds = tf.keras.utils.image_dataset_from_directory('train_dir', label_mode=\"categorical\", image_size=(256,256), batch_size=32)\n",
    "testing_ds = tf.keras.utils.image_dataset_from_directory('test_dir', label_mode=\"categorical\", image_size=(256,256), batch_size=32)\n",
    "training_ds = training_ds.map(lambda x, y: (norm(x), y))\n",
    "testing_ds = testing_ds.map(lambda x, y: (norm(x), y))\n",
    "biome_model.fit(\n",
    "    training_ds,\n",
    "    epochs = 60,\n",
    "    verbose = 0\n",
    ")\n",
    "print(\"Model Trained\")"
   ]
  },
  {
   "cell_type": "markdown",
   "id": "972f3057-6021-491e-a075-1fc5b4fbea6c",
   "metadata": {},
   "source": [
    "## **Model with Optimal Parameters CV Average:**"
   ]
  },
  {
   "cell_type": "code",
   "execution_count": 6,
   "id": "5e9ad9e5-df83-42aa-89dc-a2f8338b8100",
   "metadata": {
    "tags": []
   },
   "outputs": [
    {
     "name": "stdout",
     "output_type": "stream",
     "text": [
      "Found 903 files belonging to 4 classes.\n",
      "Found 101 files belonging to 4 classes.\n"
     ]
    },
    {
     "name": "stderr",
     "output_type": "stream",
     "text": [
      "C:\\Users\\rstea_nzkrq5m\\anaconda3\\lib\\site-packages\\keras\\engine\\training_v1.py:2067: UserWarning: `Model.state_updates` will be removed in a future version. This property should not be used in TensorFlow 2.0, as `updates` are applied automatically.\n",
      "  updates=self.state_updates,\n"
     ]
    },
    {
     "name": "stdout",
     "output_type": "stream",
     "text": [
      "Instantaneous model accuracy: 0.5544554455445545\n",
      "Found 903 files belonging to 4 classes.\n",
      "Found 101 files belonging to 4 classes.\n",
      "Instantaneous model accuracy: 0.7128712871287128\n",
      "Found 903 files belonging to 4 classes.\n",
      "Found 101 files belonging to 4 classes.\n",
      "Instantaneous model accuracy: 0.7029702970297029\n",
      "Found 903 files belonging to 4 classes.\n",
      "Found 101 files belonging to 4 classes.\n",
      "Instantaneous model accuracy: 0.7029702970297029\n",
      "Found 904 files belonging to 4 classes.\n",
      "Found 100 files belonging to 4 classes.\n",
      "Instantaneous model accuracy: 0.74\n",
      "Found 904 files belonging to 4 classes.\n",
      "Found 100 files belonging to 4 classes.\n",
      "Instantaneous model accuracy: 0.69\n",
      "Found 904 files belonging to 4 classes.\n",
      "Found 100 files belonging to 4 classes.\n",
      "Instantaneous model accuracy: 0.68\n",
      "Found 904 files belonging to 4 classes.\n",
      "Found 100 files belonging to 4 classes.\n",
      "Instantaneous model accuracy: 0.74\n",
      "Found 904 files belonging to 4 classes.\n",
      "Found 100 files belonging to 4 classes.\n",
      "Instantaneous model accuracy: 0.73\n",
      "Found 904 files belonging to 4 classes.\n",
      "Found 100 files belonging to 4 classes.\n",
      "Instantaneous model accuracy: 0.75\n",
      "General model accuracy: 0.7003267326732673\n"
     ]
    }
   ],
   "source": [
    "import tensorflow_datasets as tfds\n",
    "model_accuracy = 0\n",
    "for k in range(NUM_FOLDS_K):\n",
    "    biome_model = tf.keras.Sequential([\n",
    "        tf.keras.layers.Conv2D(filters=16,kernel_size=[2,2],padding=\"same\",activation=\"relu\"),\n",
    "        tf.keras.layers.MaxPool2D(pool_size=[2,2],padding=\"same\"),\n",
    "        tf.keras.layers.Conv2D(filters=32,kernel_size=[2,2],padding=\"same\",activation=\"relu\"),\n",
    "        tf.keras.layers.MaxPool2D(pool_size=[2,2],padding=\"same\"),\n",
    "        tf.keras.layers.Flatten(),\n",
    "        tf.keras.layers.Dropout(rate=0.5),\n",
    "        tf.keras.layers.Dense(units=72,activation=\"relu\",activity_regularizer=tf.keras.regularizers.L2(0.01)),\n",
    "        tf.keras.layers.Dense(units=36,activation=\"relu\",activity_regularizer=tf.keras.regularizers.L2(0.01)),\n",
    "        tf.keras.layers.Dense(units=4,activation=\"relu\")\n",
    "    ])\n",
    "    biome_model.compile(optimizer=tf.keras.optimizers.SGD(learning_rate=0.03, momentum=0.3),loss=tf.losses.CategoricalCrossentropy(from_logits=True),metrics=[\"accuracy\"])\n",
    "    clean_dir('train_dir')\n",
    "    clean_dir('test_dir')\n",
    "    for file in cv_train_frames[k][0]['file']:\n",
    "        subdir = file.find('\\\\')\n",
    "        dest = 'train_dir\\\\' + file[subdir+1:len(file)]\n",
    "        stl.copy(file, dest)\n",
    "    for file in cv_train_frames[k][1]['file']:\n",
    "        subdir = file.find('\\\\')\n",
    "        dest = 'test_dir\\\\' + file[subdir+1:len(file)]\n",
    "        stl.copy(file, dest)\n",
    "    norm = tf.keras.layers.Rescaling(1./255)\n",
    "    training_ds = tf.keras.utils.image_dataset_from_directory('train_dir', label_mode=\"categorical\", image_size=(256,256), batch_size=32)\n",
    "    testing_ds = tf.keras.utils.image_dataset_from_directory('test_dir', label_mode=\"categorical\", image_size=(256,256), batch_size=32)\n",
    "    training_ds = training_ds.map(lambda x, y: (norm(x), y))\n",
    "    testing_ds = testing_ds.map(lambda x, y: (norm(x), y))\n",
    "    biome_model.fit(\n",
    "        training_ds,\n",
    "        epochs = 60,\n",
    "        verbose = 0\n",
    "    )\n",
    "    predictions = biome_model.predict(x=testing_ds, verbose = 0)\n",
    "    labels = []\n",
    "    dataset = tfds.as_numpy(testing_ds)\n",
    "    for image, target in dataset:\n",
    "        for item in target:\n",
    "            labels.append(item)\n",
    "    correct = 0\n",
    "    for x in range(len(predictions)):\n",
    "        ind_pred = np.argmax(predictions[x])\n",
    "        ind_val = np.argmax(labels[x])\n",
    "        if ind_val == ind_pred:\n",
    "            correct += 1\n",
    "    model_accuracy += correct/(len(predictions)*NUM_FOLDS_K)\n",
    "    print(\"Instantaneous model accuracy: \" + str(correct/len(predictions)))\n",
    "print(\"General model accuracy: \" + str(model_accuracy))"
   ]
  },
  {
   "cell_type": "markdown",
   "id": "3c9eb5bf-bad8-40a1-8535-275cc2d5db7c",
   "metadata": {},
   "source": [
    "## **Classification Report for Optimal Model**"
   ]
  },
  {
   "cell_type": "code",
   "execution_count": 17,
   "id": "f6f58aeb-3d3f-4a14-aed6-885b37d8f2ee",
   "metadata": {},
   "outputs": [
    {
     "name": "stdout",
     "output_type": "stream",
     "text": [
      "Found 112 files belonging to 4 classes.\n"
     ]
    },
    {
     "name": "stderr",
     "output_type": "stream",
     "text": [
      "C:\\Users\\rstea_nzkrq5m\\anaconda3\\lib\\site-packages\\keras\\engine\\training_v1.py:2067: UserWarning: `Model.state_updates` will be removed in a future version. This property should not be used in TensorFlow 2.0, as `updates` are applied automatically.\n",
      "  updates=self.state_updates,\n"
     ]
    },
    {
     "name": "stdout",
     "output_type": "stream",
     "text": [
      "              precision    recall  f1-score   support\n",
      "\n",
      "      desert       0.83      0.73      0.78        26\n",
      "      forest       0.83      0.89      0.86        27\n",
      "   grassland       0.51      0.81      0.62        31\n",
      "      tundra       0.91      0.36      0.51        28\n",
      "\n",
      "    accuracy                           0.70       112\n",
      "   macro avg       0.77      0.70      0.69       112\n",
      "weighted avg       0.76      0.70      0.69       112\n",
      "\n"
     ]
    }
   ],
   "source": [
    "import tensorflow_datasets as tfds\n",
    "from sklearn.metrics import classification_report as report\n",
    "from math import exp\n",
    "validation_ds = tf.keras.utils.image_dataset_from_directory('val_dir', label_mode=\"categorical\", image_size=(256,256), batch_size=32)\n",
    "validation_ds = validation_ds.map(lambda x, y: (norm(x), y))\n",
    "predictions = biome_model.predict(x=validation_ds, verbose = 0)\n",
    "labels = []\n",
    "dataset = tfds.as_numpy(validation_ds)\n",
    "for image, target in dataset:\n",
    "    for item in target:\n",
    "        labels.append(item)\n",
    "correct = 0\n",
    "for x in range(len(predictions)):\n",
    "    ind_pred = np.argmax(predictions[x])\n",
    "    ind_val = np.argmax(labels[x])\n",
    "    if ind_val == ind_pred:\n",
    "        correct += 1\n",
    "#print(\"Model Accuracy: \"+str(correct/len(predictions)))\n",
    "labels = np.argmax(labels, axis=1)\n",
    "norm_pred = np.argmax(predictions, axis=1)\n",
    "stats = report(y_true=labels,y_pred=predictions,target_names=[\"desert\",\"forest\",\"grassland\",\"tundra\"])\n",
    "print(stats)"
   ]
  },
  {
   "cell_type": "markdown",
   "id": "af595b09-9b36-4f71-86a2-1cb718d11daf",
   "metadata": {},
   "source": [
    "## **Exporting the Predictions**"
   ]
  },
  {
   "cell_type": "code",
   "execution_count": 12,
   "id": "220be9e8-64d1-490c-b559-b76207ab7f49",
   "metadata": {},
   "outputs": [
    {
     "name": "stdout",
     "output_type": "stream",
     "text": [
      "Found 1116 files belonging to 4 classes.\n",
      "1050\n"
     ]
    }
   ],
   "source": [
    "norm = tf.keras.layers.Rescaling(1./255)\n",
    "dummy_ds = tf.keras.utils.image_dataset_from_directory('processed_data', label_mode=\"categorical\", image_size=(256,256), shuffle=False)\n",
    "dummy_ds = dummy_ds.map(lambda x, y: (norm(x), y))\n",
    "iter_dummy_ds = tfds.as_numpy(dummy_ds)\n",
    "target_list = []\n",
    "raw_predictions = biome_model.predict(dummy_ds)\n",
    "export_predictions = []\n",
    "for image, target in iter_dummy_ds:\n",
    "    for label in target:\n",
    "        target_list.append(label)\n",
    "for x in raw_predictions:\n",
    "    new_item = []\n",
    "    for y in range(len(x)):\n",
    "        new_item.append(sigmoid(x[y]))\n",
    "    export_predictions.append(new_item)\n",
    "correct = 0\n",
    "for x in range(len(export_predictions)):\n",
    "    ind_pred = np.argmax(export_predictions[x])\n",
    "    ind_val = np.argmax(target_list[x])\n",
    "    if ind_val == ind_pred:\n",
    "        correct += 1\n",
    "print(correct)\n",
    "export_df = pan.DataFrame(export_predictions, columns=['desert_pred','forest_pred','grassland_pred','tundra_pred']).join(pan.DataFrame(target_list, columns=['desert_label','forest_label','grassland_label','tundra_label']))\n",
    "export_df.to_csv('cnn_predictions.csv', index=False)"
   ]
  },
  {
   "cell_type": "code",
   "execution_count": 9,
   "id": "523fec56-5a72-4630-a07c-dfec0875c81f",
   "metadata": {},
   "outputs": [],
   "source": [
    "json_file = biome_model.to_json()\n",
    "with open('.\\\\saved_models\\\\model_1.json', 'w') as file:\n",
    "    file.write(json_file)"
   ]
  },
  {
   "cell_type": "code",
   "execution_count": 18,
   "id": "a8229914-8b93-4359-bc77-bc1eae05dd22",
   "metadata": {},
   "outputs": [],
   "source": [
    "biome_model.save('.\\\\'+'saved_models'+'\\\\'+'model_1.h5')"
   ]
  },
  {
   "cell_type": "code",
   "execution_count": null,
   "id": "3a2766bf-a4fa-4359-96c6-88c3a4d303a6",
   "metadata": {},
   "outputs": [],
   "source": [
    "model_load = load_model('./saved_models/model_1.h5')\n"
   ]
  },
  {
   "cell_type": "code",
   "execution_count": 4,
   "id": "aa6faf71-f83c-417a-85bf-0506e8ec2a0a",
   "metadata": {
    "tags": []
   },
   "outputs": [],
   "source": [
    "from math import exp\n",
    "def sigmoid(x):\n",
    "    return float(1/(1+exp(-1*x)))\n",
    "\n",
    "def logit_prediction(pred):\n",
    "    norm_pred = []\n",
    "    for i in pred:\n",
    "        new_item = []\n",
    "        for j in i:\n",
    "            j = sigmoid(j)\n",
    "            new_item.append(j)\n",
    "        norm_pred.append(new_item)\n",
    "    norm_pred = np.asarray(norm_pred).reshape((len(pred),4)) # 4 * len(val_data) = 448\n",
    "    for x in norm_pred:\n",
    "        index = np.argmax(x)\n",
    "        for i in range(0, len(x)):\n",
    "            if i != index:\n",
    "                x[i] = 0\n",
    "            else:\n",
    "                x[i] = 1\n",
    "    return norm_pred\n",
    "\n",
    "def get_target_vals(raw_val):\n",
    "    target_vals = []\n",
    "    for image, target in raw_val:\n",
    "        for pred in target:\n",
    "            target_vals.append(pred)\n",
    "    target_vals = np.asarray(target_vals).reshape((len(target_vals),4))\n",
    "    return target_vals\n",
    "\n",
    "def get_acc(target_vals, norm_pred):\n",
    "    correct = 0\n",
    "    assert(len(norm_pred) == len(target_vals))\n",
    "    for i in range(len(target_vals)):\n",
    "        index_tv = np.argmax(target_vals[i])\n",
    "        index_pred = np.argmax(norm_pred[i])\n",
    "        if index_tv == index_pred:\n",
    "            correct += 1\n",
    "    return float(correct/len(target_vals))\n"
   ]
  },
  {
   "cell_type": "code",
   "execution_count": 9,
   "id": "8e096edf-3356-4166-bf7d-73a6dcd1e8d9",
   "metadata": {
    "collapsed": true,
    "jupyter": {
     "outputs_hidden": true
    },
    "tags": []
   },
   "outputs": [
    {
     "name": "stdout",
     "output_type": "stream",
     "text": [
      "Found 112 files belonging to 4 classes.\n"
     ]
    },
    {
     "ename": "KeyboardInterrupt",
     "evalue": "",
     "output_type": "error",
     "traceback": [
      "\u001b[1;31m---------------------------------------------------------------------------\u001b[0m",
      "\u001b[1;31mKeyboardInterrupt\u001b[0m                         Traceback (most recent call last)",
      "\u001b[1;32m<ipython-input-9-42634882b579>\u001b[0m in \u001b[0;36m<module>\u001b[1;34m\u001b[0m\n\u001b[0;32m     50\u001b[0m                     \u001b[0mstl\u001b[0m\u001b[1;33m.\u001b[0m\u001b[0mcopy\u001b[0m\u001b[1;33m(\u001b[0m\u001b[0mfile\u001b[0m\u001b[1;33m,\u001b[0m \u001b[0mdest\u001b[0m\u001b[1;33m)\u001b[0m\u001b[1;33m\u001b[0m\u001b[1;33m\u001b[0m\u001b[0m\n\u001b[0;32m     51\u001b[0m                 \u001b[0mnorm\u001b[0m \u001b[1;33m=\u001b[0m \u001b[0mtf\u001b[0m\u001b[1;33m.\u001b[0m\u001b[0mkeras\u001b[0m\u001b[1;33m.\u001b[0m\u001b[0mlayers\u001b[0m\u001b[1;33m.\u001b[0m\u001b[0mRescaling\u001b[0m\u001b[1;33m(\u001b[0m\u001b[1;36m1.\u001b[0m\u001b[1;33m/\u001b[0m\u001b[1;36m255\u001b[0m\u001b[1;33m)\u001b[0m\u001b[1;33m\u001b[0m\u001b[1;33m\u001b[0m\u001b[0m\n\u001b[1;32m---> 52\u001b[1;33m                 \u001b[0mtraining_ds\u001b[0m \u001b[1;33m=\u001b[0m \u001b[0mtf\u001b[0m\u001b[1;33m.\u001b[0m\u001b[0mkeras\u001b[0m\u001b[1;33m.\u001b[0m\u001b[0mutils\u001b[0m\u001b[1;33m.\u001b[0m\u001b[0mimage_dataset_from_directory\u001b[0m\u001b[1;33m(\u001b[0m\u001b[1;34m'train_dir'\u001b[0m\u001b[1;33m,\u001b[0m \u001b[0mlabel_mode\u001b[0m\u001b[1;33m=\u001b[0m\u001b[1;34m\"categorical\"\u001b[0m\u001b[1;33m,\u001b[0m \u001b[0mimage_size\u001b[0m\u001b[1;33m=\u001b[0m\u001b[1;33m(\u001b[0m\u001b[1;36m256\u001b[0m\u001b[1;33m,\u001b[0m\u001b[1;36m256\u001b[0m\u001b[1;33m)\u001b[0m\u001b[1;33m,\u001b[0m \u001b[0mbatch_size\u001b[0m\u001b[1;33m=\u001b[0m\u001b[1;36m32\u001b[0m\u001b[1;33m)\u001b[0m\u001b[1;33m\u001b[0m\u001b[1;33m\u001b[0m\u001b[0m\n\u001b[0m\u001b[0;32m     53\u001b[0m                 \u001b[0mtesting_ds\u001b[0m \u001b[1;33m=\u001b[0m \u001b[0mtf\u001b[0m\u001b[1;33m.\u001b[0m\u001b[0mkeras\u001b[0m\u001b[1;33m.\u001b[0m\u001b[0mutils\u001b[0m\u001b[1;33m.\u001b[0m\u001b[0mimage_dataset_from_directory\u001b[0m\u001b[1;33m(\u001b[0m\u001b[1;34m'test_dir'\u001b[0m\u001b[1;33m,\u001b[0m \u001b[0mlabel_mode\u001b[0m\u001b[1;33m=\u001b[0m\u001b[1;34m\"categorical\"\u001b[0m\u001b[1;33m,\u001b[0m \u001b[0mimage_size\u001b[0m\u001b[1;33m=\u001b[0m\u001b[1;33m(\u001b[0m\u001b[1;36m256\u001b[0m\u001b[1;33m,\u001b[0m\u001b[1;36m256\u001b[0m\u001b[1;33m)\u001b[0m\u001b[1;33m,\u001b[0m \u001b[0mbatch_size\u001b[0m\u001b[1;33m=\u001b[0m\u001b[1;36m32\u001b[0m\u001b[1;33m)\u001b[0m\u001b[1;33m\u001b[0m\u001b[1;33m\u001b[0m\u001b[0m\n\u001b[0;32m     54\u001b[0m                 \u001b[0mtraining_ds\u001b[0m \u001b[1;33m=\u001b[0m \u001b[0mtraining_ds\u001b[0m\u001b[1;33m.\u001b[0m\u001b[0mmap\u001b[0m\u001b[1;33m(\u001b[0m\u001b[1;32mlambda\u001b[0m \u001b[0mx\u001b[0m\u001b[1;33m,\u001b[0m \u001b[0my\u001b[0m\u001b[1;33m:\u001b[0m \u001b[1;33m(\u001b[0m\u001b[0mnorm\u001b[0m\u001b[1;33m(\u001b[0m\u001b[0mx\u001b[0m\u001b[1;33m)\u001b[0m\u001b[1;33m,\u001b[0m \u001b[0my\u001b[0m\u001b[1;33m)\u001b[0m\u001b[1;33m)\u001b[0m\u001b[1;33m\u001b[0m\u001b[1;33m\u001b[0m\u001b[0m\n",
      "\u001b[1;32m~\\anaconda3\\lib\\site-packages\\keras\\utils\\image_dataset.py\u001b[0m in \u001b[0;36mimage_dataset_from_directory\u001b[1;34m(directory, labels, label_mode, class_names, color_mode, batch_size, image_size, shuffle, seed, validation_split, subset, interpolation, follow_links, crop_to_aspect_ratio, **kwargs)\u001b[0m\n\u001b[0;32m    190\u001b[0m   \u001b[1;32mif\u001b[0m \u001b[0mseed\u001b[0m \u001b[1;32mis\u001b[0m \u001b[1;32mNone\u001b[0m\u001b[1;33m:\u001b[0m\u001b[1;33m\u001b[0m\u001b[1;33m\u001b[0m\u001b[0m\n\u001b[0;32m    191\u001b[0m     \u001b[0mseed\u001b[0m \u001b[1;33m=\u001b[0m \u001b[0mnp\u001b[0m\u001b[1;33m.\u001b[0m\u001b[0mrandom\u001b[0m\u001b[1;33m.\u001b[0m\u001b[0mrandint\u001b[0m\u001b[1;33m(\u001b[0m\u001b[1;36m1e6\u001b[0m\u001b[1;33m)\u001b[0m\u001b[1;33m\u001b[0m\u001b[1;33m\u001b[0m\u001b[0m\n\u001b[1;32m--> 192\u001b[1;33m   image_paths, labels, class_names = dataset_utils.index_directory(\n\u001b[0m\u001b[0;32m    193\u001b[0m       \u001b[0mdirectory\u001b[0m\u001b[1;33m,\u001b[0m\u001b[1;33m\u001b[0m\u001b[1;33m\u001b[0m\u001b[0m\n\u001b[0;32m    194\u001b[0m       \u001b[0mlabels\u001b[0m\u001b[1;33m,\u001b[0m\u001b[1;33m\u001b[0m\u001b[1;33m\u001b[0m\u001b[0m\n",
      "\u001b[1;32m~\\anaconda3\\lib\\site-packages\\keras\\utils\\dataset_utils.py\u001b[0m in \u001b[0;36mindex_directory\u001b[1;34m(directory, labels, formats, class_names, shuffle, seed, follow_links)\u001b[0m\n\u001b[0;32m     92\u001b[0m   \u001b[0mlabels_list\u001b[0m \u001b[1;33m=\u001b[0m \u001b[1;33m[\u001b[0m\u001b[1;33m]\u001b[0m\u001b[1;33m\u001b[0m\u001b[1;33m\u001b[0m\u001b[0m\n\u001b[0;32m     93\u001b[0m   \u001b[1;32mfor\u001b[0m \u001b[0mres\u001b[0m \u001b[1;32min\u001b[0m \u001b[0mresults\u001b[0m\u001b[1;33m:\u001b[0m\u001b[1;33m\u001b[0m\u001b[1;33m\u001b[0m\u001b[0m\n\u001b[1;32m---> 94\u001b[1;33m     \u001b[0mpartial_filenames\u001b[0m\u001b[1;33m,\u001b[0m \u001b[0mpartial_labels\u001b[0m \u001b[1;33m=\u001b[0m \u001b[0mres\u001b[0m\u001b[1;33m.\u001b[0m\u001b[0mget\u001b[0m\u001b[1;33m(\u001b[0m\u001b[1;33m)\u001b[0m\u001b[1;33m\u001b[0m\u001b[1;33m\u001b[0m\u001b[0m\n\u001b[0m\u001b[0;32m     95\u001b[0m     \u001b[0mlabels_list\u001b[0m\u001b[1;33m.\u001b[0m\u001b[0mappend\u001b[0m\u001b[1;33m(\u001b[0m\u001b[0mpartial_labels\u001b[0m\u001b[1;33m)\u001b[0m\u001b[1;33m\u001b[0m\u001b[1;33m\u001b[0m\u001b[0m\n\u001b[0;32m     96\u001b[0m     \u001b[0mfilenames\u001b[0m \u001b[1;33m+=\u001b[0m \u001b[0mpartial_filenames\u001b[0m\u001b[1;33m\u001b[0m\u001b[1;33m\u001b[0m\u001b[0m\n",
      "\u001b[1;32m~\\anaconda3\\lib\\multiprocessing\\pool.py\u001b[0m in \u001b[0;36mget\u001b[1;34m(self, timeout)\u001b[0m\n\u001b[0;32m    763\u001b[0m \u001b[1;33m\u001b[0m\u001b[0m\n\u001b[0;32m    764\u001b[0m     \u001b[1;32mdef\u001b[0m \u001b[0mget\u001b[0m\u001b[1;33m(\u001b[0m\u001b[0mself\u001b[0m\u001b[1;33m,\u001b[0m \u001b[0mtimeout\u001b[0m\u001b[1;33m=\u001b[0m\u001b[1;32mNone\u001b[0m\u001b[1;33m)\u001b[0m\u001b[1;33m:\u001b[0m\u001b[1;33m\u001b[0m\u001b[1;33m\u001b[0m\u001b[0m\n\u001b[1;32m--> 765\u001b[1;33m         \u001b[0mself\u001b[0m\u001b[1;33m.\u001b[0m\u001b[0mwait\u001b[0m\u001b[1;33m(\u001b[0m\u001b[0mtimeout\u001b[0m\u001b[1;33m)\u001b[0m\u001b[1;33m\u001b[0m\u001b[1;33m\u001b[0m\u001b[0m\n\u001b[0m\u001b[0;32m    766\u001b[0m         \u001b[1;32mif\u001b[0m \u001b[1;32mnot\u001b[0m \u001b[0mself\u001b[0m\u001b[1;33m.\u001b[0m\u001b[0mready\u001b[0m\u001b[1;33m(\u001b[0m\u001b[1;33m)\u001b[0m\u001b[1;33m:\u001b[0m\u001b[1;33m\u001b[0m\u001b[1;33m\u001b[0m\u001b[0m\n\u001b[0;32m    767\u001b[0m             \u001b[1;32mraise\u001b[0m \u001b[0mTimeoutError\u001b[0m\u001b[1;33m\u001b[0m\u001b[1;33m\u001b[0m\u001b[0m\n",
      "\u001b[1;32m~\\anaconda3\\lib\\multiprocessing\\pool.py\u001b[0m in \u001b[0;36mwait\u001b[1;34m(self, timeout)\u001b[0m\n\u001b[0;32m    760\u001b[0m \u001b[1;33m\u001b[0m\u001b[0m\n\u001b[0;32m    761\u001b[0m     \u001b[1;32mdef\u001b[0m \u001b[0mwait\u001b[0m\u001b[1;33m(\u001b[0m\u001b[0mself\u001b[0m\u001b[1;33m,\u001b[0m \u001b[0mtimeout\u001b[0m\u001b[1;33m=\u001b[0m\u001b[1;32mNone\u001b[0m\u001b[1;33m)\u001b[0m\u001b[1;33m:\u001b[0m\u001b[1;33m\u001b[0m\u001b[1;33m\u001b[0m\u001b[0m\n\u001b[1;32m--> 762\u001b[1;33m         \u001b[0mself\u001b[0m\u001b[1;33m.\u001b[0m\u001b[0m_event\u001b[0m\u001b[1;33m.\u001b[0m\u001b[0mwait\u001b[0m\u001b[1;33m(\u001b[0m\u001b[0mtimeout\u001b[0m\u001b[1;33m)\u001b[0m\u001b[1;33m\u001b[0m\u001b[1;33m\u001b[0m\u001b[0m\n\u001b[0m\u001b[0;32m    763\u001b[0m \u001b[1;33m\u001b[0m\u001b[0m\n\u001b[0;32m    764\u001b[0m     \u001b[1;32mdef\u001b[0m \u001b[0mget\u001b[0m\u001b[1;33m(\u001b[0m\u001b[0mself\u001b[0m\u001b[1;33m,\u001b[0m \u001b[0mtimeout\u001b[0m\u001b[1;33m=\u001b[0m\u001b[1;32mNone\u001b[0m\u001b[1;33m)\u001b[0m\u001b[1;33m:\u001b[0m\u001b[1;33m\u001b[0m\u001b[1;33m\u001b[0m\u001b[0m\n",
      "\u001b[1;32m~\\anaconda3\\lib\\threading.py\u001b[0m in \u001b[0;36mwait\u001b[1;34m(self, timeout)\u001b[0m\n\u001b[0;32m    556\u001b[0m             \u001b[0msignaled\u001b[0m \u001b[1;33m=\u001b[0m \u001b[0mself\u001b[0m\u001b[1;33m.\u001b[0m\u001b[0m_flag\u001b[0m\u001b[1;33m\u001b[0m\u001b[1;33m\u001b[0m\u001b[0m\n\u001b[0;32m    557\u001b[0m             \u001b[1;32mif\u001b[0m \u001b[1;32mnot\u001b[0m \u001b[0msignaled\u001b[0m\u001b[1;33m:\u001b[0m\u001b[1;33m\u001b[0m\u001b[1;33m\u001b[0m\u001b[0m\n\u001b[1;32m--> 558\u001b[1;33m                 \u001b[0msignaled\u001b[0m \u001b[1;33m=\u001b[0m \u001b[0mself\u001b[0m\u001b[1;33m.\u001b[0m\u001b[0m_cond\u001b[0m\u001b[1;33m.\u001b[0m\u001b[0mwait\u001b[0m\u001b[1;33m(\u001b[0m\u001b[0mtimeout\u001b[0m\u001b[1;33m)\u001b[0m\u001b[1;33m\u001b[0m\u001b[1;33m\u001b[0m\u001b[0m\n\u001b[0m\u001b[0;32m    559\u001b[0m             \u001b[1;32mreturn\u001b[0m \u001b[0msignaled\u001b[0m\u001b[1;33m\u001b[0m\u001b[1;33m\u001b[0m\u001b[0m\n\u001b[0;32m    560\u001b[0m \u001b[1;33m\u001b[0m\u001b[0m\n",
      "\u001b[1;32m~\\anaconda3\\lib\\threading.py\u001b[0m in \u001b[0;36mwait\u001b[1;34m(self, timeout)\u001b[0m\n\u001b[0;32m    300\u001b[0m         \u001b[1;32mtry\u001b[0m\u001b[1;33m:\u001b[0m    \u001b[1;31m# restore state no matter what (e.g., KeyboardInterrupt)\u001b[0m\u001b[1;33m\u001b[0m\u001b[1;33m\u001b[0m\u001b[0m\n\u001b[0;32m    301\u001b[0m             \u001b[1;32mif\u001b[0m \u001b[0mtimeout\u001b[0m \u001b[1;32mis\u001b[0m \u001b[1;32mNone\u001b[0m\u001b[1;33m:\u001b[0m\u001b[1;33m\u001b[0m\u001b[1;33m\u001b[0m\u001b[0m\n\u001b[1;32m--> 302\u001b[1;33m                 \u001b[0mwaiter\u001b[0m\u001b[1;33m.\u001b[0m\u001b[0macquire\u001b[0m\u001b[1;33m(\u001b[0m\u001b[1;33m)\u001b[0m\u001b[1;33m\u001b[0m\u001b[1;33m\u001b[0m\u001b[0m\n\u001b[0m\u001b[0;32m    303\u001b[0m                 \u001b[0mgotit\u001b[0m \u001b[1;33m=\u001b[0m \u001b[1;32mTrue\u001b[0m\u001b[1;33m\u001b[0m\u001b[1;33m\u001b[0m\u001b[0m\n\u001b[0;32m    304\u001b[0m             \u001b[1;32melse\u001b[0m\u001b[1;33m:\u001b[0m\u001b[1;33m\u001b[0m\u001b[1;33m\u001b[0m\u001b[0m\n",
      "\u001b[1;31mKeyboardInterrupt\u001b[0m: "
     ]
    }
   ],
   "source": [
    "import tensorflow_datasets as tfds\n",
    "from sklearn.metrics import mean_squared_error as mse\n",
    "\n",
    "TENSOR_SIZE = (DIM_SIZE, DIM_SIZE) # size of tensors for datasets\n",
    "BATCH_SIZE = 64 # batch of images\n",
    "TEST_SIZE = 0 # number of validation datapoints len(cv_train_frames[0][1]['file'])\n",
    "\n",
    "# Validation independent of CV:\n",
    "norm = tf.keras.layers.Rescaling(1./255)\n",
    "validation_ds = tf.keras.utils.image_dataset_from_directory('val_dir', label_mode=\"categorical\", image_size=TENSOR_SIZE, batch_size=BATCH_SIZE) #   -  same for all the other datasets\n",
    "validation_ds = validation_ds.map(lambda x, y: (norm(x), y))\n",
    "\n",
    "\n",
    "#LOGITS = False\n",
    "NEURONS_ONE = [24, 48, 72]\n",
    "NEURONS_TWO = [12, 24, 36]\n",
    "RATE = [0.01, 0.03, 0.05]\n",
    "#MOMENT = [0.1, 0.3, 0.5]\n",
    "\n",
    "# Begin the gridsearch with 10-foldCV\n",
    "done_count = 0\n",
    "stats_list = []\n",
    "for neurons_one in NEURONS_ONE:\n",
    "    for neurons_two in NEURONS_TWO:\n",
    "        for rate in RATE:\n",
    "            model_accuracy = 0\n",
    "            average_error = 0\n",
    "            for k in range(NUM_FOLDS_K):\n",
    "                biome_model = tf.keras.Sequential([\n",
    "                    tf.keras.layers.Conv2D(filters=16,kernel_size=[2,2],padding=\"same\",activation=\"relu\"),\n",
    "                    tf.keras.layers.MaxPool2D(pool_size=[2,2],padding=\"same\"),\n",
    "                    tf.keras.layers.Conv2D(filters=32,kernel_size=[2,2],padding=\"same\",activation=\"relu\"),\n",
    "                    tf.keras.layers.MaxPool2D(pool_size=[2,2],padding=\"same\"),\n",
    "                    tf.keras.layers.Flatten(),\n",
    "                    tf.keras.layers.Dropout(rate=0.8),\n",
    "                    tf.keras.layers.Dense(units=neurons_one,activation=\"relu\",activity_regularizer=tf.keras.regularizers.L2(0.01)),\n",
    "                    tf.keras.layers.Dense(units=neurons_two,activation=\"relu\",activity_regularizer=tf.keras.regularizers.L2(0.01)),\n",
    "                    tf.keras.layers.Dense(units=4,activation=\"relu\")\n",
    "                ])\n",
    "                biome_model.compile(optimizer=tf.keras.optimizers.SGD(learning_rate=rate, momentum=0.3),loss=tf.losses.CategoricalCrossentropy(from_logits=True),metrics=[\"accuracy\"])\n",
    "                clean_dir('train_dir')\n",
    "                clean_dir('test_dir')\n",
    "                for file in cv_train_frames[k][0]['file']:\n",
    "                    subdir = file.find('\\\\')\n",
    "                    dest = 'train_dir\\\\' + file[subdir+1:len(file)]\n",
    "                    stl.copy(file, dest)\n",
    "                for file in cv_train_frames[k][1]['file']:\n",
    "                    subdir = file.find('\\\\')\n",
    "                    dest = 'test_dir\\\\' + file[subdir+1:len(file)]\n",
    "                    stl.copy(file, dest)\n",
    "                norm = tf.keras.layers.Rescaling(1./255)\n",
    "                training_ds = tf.keras.utils.image_dataset_from_directory('train_dir', label_mode=\"categorical\", image_size=(256,256), batch_size=32)\n",
    "                testing_ds = tf.keras.utils.image_dataset_from_directory('test_dir', label_mode=\"categorical\", image_size=(256,256), batch_size=32)\n",
    "                training_ds = training_ds.map(lambda x, y: (norm(x), y))\n",
    "                testing_ds = testing_ds.map(lambda x, y: (norm(x), y))\n",
    "                biome_model.fit(\n",
    "                    training_ds,\n",
    "                    epochs = 60,\n",
    "                    verbose = 0\n",
    "                )\n",
    "                predictions = biome_model.predict(x=testing_ds, verbose = 0)\n",
    "                norm_pred = []\n",
    "                labels = []\n",
    "                dataset = tfds.as_numpy(testing_ds)\n",
    "                for image, target in dataset:\n",
    "                    for item in target:\n",
    "                        labels.append(item)\n",
    "                for x in predictions:\n",
    "                    new_item = []\n",
    "                    for y in range(len(x)):\n",
    "                        new_item.append(sigmoid(x[y]))\n",
    "                    norm_pred.append(new_item)\n",
    "                correct = 0\n",
    "                for x in range(len(predictions)):\n",
    "                    ind_pred = np.argmax(norm_pred[x])\n",
    "                    ind_val = np.argmax(labels[x])\n",
    "                    if ind_val == ind_pred:\n",
    "                        correct += 1\n",
    "                model_accuracy += correct/(len(predictions)*NUM_FOLDS_K)\n",
    "                average_error += mse(labels, norm_pred)/NUM_FOLDS_K\n",
    "                print(\"Instantaneous accuracy: \" + str(correct/len(predictions)))\n",
    "            del biome_model\n",
    "            stats_list.append([neurons_one, neurons_two, rate, round(model_accuracy,3), round(average_error,3)])\n",
    "            done_count += 1\n",
    "            print(\"Completed \"+str(done_count)+\" iteration of 27 total iterations \" + str(stats_list[done_count-1][3]))\n",
    "max_index = 0\n",
    "max_acc = 0\n",
    "for x in range(len(stats_list)):\n",
    "    if stats_list[x][3] > max_acc:\n",
    "        max_index = x\n",
    "        max_acc = stats_list[x][4]\n",
    "print(\"Max index: \"+str(max_index))"
   ]
  },
  {
   "cell_type": "code",
   "execution_count": 44,
   "id": "29dc82cf-b677-442c-84d0-da837469a810",
   "metadata": {
    "collapsed": true,
    "jupyter": {
     "outputs_hidden": true
    },
    "tags": []
   },
   "outputs": [
    {
     "name": "stdout",
     "output_type": "stream",
     "text": [
      "Max index: 19\n",
      "[72, 12, 0.03, 0.938, 0.025]\n"
     ]
    }
   ],
   "source": [
    "max_index = 0\n",
    "max_acc = 0\n",
    "for x in range(len(stats_list)):\n",
    "    if stats_list[x][3] > max_acc:\n",
    "        max_index = x\n",
    "        max_acc = stats_list[x][3]\n",
    "print(\"Max index: \"+str(max_index))\n",
    "print(stats_list[19])"
   ]
  },
  {
   "cell_type": "markdown",
   "id": "cb06ce6a-ed54-426d-97a5-a254aa985eea",
   "metadata": {
    "tags": []
   },
   "source": [
    "The optimal hyperparameters are 72, 36, 0.03. Extra stats: 0.938, and 0.025"
   ]
  }
 ],
 "metadata": {
  "kernelspec": {
   "display_name": "Python 3",
   "language": "python",
   "name": "python3"
  },
  "language_info": {
   "codemirror_mode": {
    "name": "ipython",
    "version": 3
   },
   "file_extension": ".py",
   "mimetype": "text/x-python",
   "name": "python",
   "nbconvert_exporter": "python",
   "pygments_lexer": "ipython3",
   "version": "3.8.8"
  }
 },
 "nbformat": 4,
 "nbformat_minor": 5
}
